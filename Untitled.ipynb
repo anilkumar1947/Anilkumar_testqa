{
  "cells": [],
  "metadata": {
    "id": "003c9a61-8411-4ebe-ae7b-5b5ec06149b4"
  },
  "nbformat": 4,
  "nbformat_minor": 5
}