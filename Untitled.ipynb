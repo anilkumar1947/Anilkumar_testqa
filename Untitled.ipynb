{
  "cells": [],
  "metadata": {
    "id": "e41173de-03ed-4bd8-9efe-ac1bb8c4713c"
  },
  "nbformat": 4,
  "nbformat_minor": 5
}