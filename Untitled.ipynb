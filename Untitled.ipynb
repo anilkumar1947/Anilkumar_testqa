{
  "cells": [],
  "metadata": {
    "id": "0f007f69-838d-447d-9059-dbb2c82dea43"
  },
  "nbformat": 4,
  "nbformat_minor": 5
}