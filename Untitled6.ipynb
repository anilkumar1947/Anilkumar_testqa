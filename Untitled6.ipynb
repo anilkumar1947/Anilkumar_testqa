{
 "cells": [
  {
   "cell_type": "code",
   "execution_count": 4,
   "id": "971dfcd3-5c5a-49af-a6ad-8219272bbb8c",
   "metadata": {},
   "outputs": [],
   "source": [
    "_predict_df = \"select (Version.[Version Name]*Product.[Product].[208821]*Time.FiscalWeek*SalesAccount.[Account]*Location.[Location]*{Measure.[DPSellOutUnitsActuals],Measure.[Mean Pricing Save PCT],Measure.[Placement Count],Measure.[Promotion Count],Measure.[DPSellOutPrice]});\""
   ]
  },
  {
   "cell_type": "code",
   "execution_count": 5,
   "id": "7ef08345-8971-4e79-a6a6-151d6f472f6e",
   "metadata": {},
   "outputs": [],
   "source": [
    "from o9_common_utils.O9DataLake import O9DataLake, ResourceType, DataSource,PluginSetting\n"
   ]
  },
  {
   "cell_type": "code",
   "execution_count": 6,
   "id": "6952a536-0a9e-42e7-9724-d6fe379f57fc",
   "metadata": {},
   "outputs": [],
   "source": [
    "predict_df = O9DataLake.register(\"predict_df\",data_source = DataSource.LS, entity_type = ResourceType.IBPL, query = _predict_df,plugin_setting = PluginSetting.Inputs)\n"
   ]
  },
  {
   "cell_type": "code",
   "execution_count": 7,
   "id": "91b095df-7dd3-44d6-a38d-9e26f64c88fd",
   "metadata": {},
   "outputs": [],
   "source": [
    "O9DataLake.register(\"Product.[Product]\", data_source = DataSource.LS, entity_type = ResourceType.IBPL, plugin_setting = PluginSetting.SliceDimension)\n"
   ]
  },
  {
   "cell_type": "code",
   "execution_count": 8,
   "id": "9937877e-5b96-41ef-8155-31ff76fb84f0",
   "metadata": {},
   "outputs": [],
   "source": [
    "O9DataLake.register(\"output1\",data_source = DataSource.LS,entity_type = ResourceType.IBPL, plugin_setting = PluginSetting.Outputs)\n"
   ]
  },
  {
   "cell_type": "code",
   "execution_count": 9,
   "id": "161fd447-e8d2-4de6-9976-29d6c50634e5",
   "metadata": {},
   "outputs": [],
   "source": [
    "script_params = O9DataLake.register({\"var1\":\"20\",\"var2\":\"Test1\",\"var3\":\"newparam\"}, data_source = DataSource.LS, plugin_setting = PluginSetting.ScriptParam)\n"
   ]
  },
  {
   "cell_type": "code",
   "execution_count": null,
   "id": "415c327a-6af5-48f3-9a13-9bba959b613b",
   "metadata": {},
   "outputs": [],
   "source": []
  }
 ],
 "metadata": {
  "kernelspec": {
   "display_name": "[AutoDSML2] Tenant Conda Environment",
   "language": "python",
   "name": "dev_autodsml2"
  },
  "language_info": {
   "codemirror_mode": {
    "name": "ipython",
    "version": 3
   },
   "file_extension": ".py",
   "mimetype": "text/x-python",
   "name": "python",
   "nbconvert_exporter": "python",
   "pygments_lexer": "ipython3",
   "version": "3.7.10"
  }
 },
 "nbformat": 4,
 "nbformat_minor": 5
}
