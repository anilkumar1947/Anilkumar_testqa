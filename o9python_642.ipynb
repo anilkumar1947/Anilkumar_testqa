{
 "cells": [
  {
   "cell_type": "code",
   "execution_count": 23,
   "id": "baa4a8ae-a71c-4785-a69d-e814423b5c8b",
   "metadata": {},
   "outputs": [],
   "source": [
    "predict_df = \"select (Version.[Version Name]*Product.[Product].[208821]*Time.FiscalWeek*SalesAccount.[Account]*Location.[Location]*{Measure.[DPSellOutUnitsActuals],Measure.[Mean Pricing Save PCT],Measure.[Placement Count],Measure.[Promotion Count],Measure.[DPSellOutPrice]});\"\n",
    "\n",
    "from o9_common_utils.O9DataLake import O9DataLake, ResourceType, DataSource,PluginSetting\n",
    "\n",
    "# register inputs\n",
    "predict_df = O9DataLake.register(\"predict_df\",data_source = DataSource.LS, entity_type = ResourceType.IBPL, query = predict_df,plugin_setting = PluginSetting.Inputs)\n",
    "# systemreport = O9DataLake.register(\"sysreport\",data_source = DataSource.LIVEFRAME,entity_type = ResourceType.LIVEFRAME,plugin_setting = PluginSetting.Inputs)\n",
    "# liveinput = O9DataLake.register(\"ReportName\",data_source = DataSource.LIVEFRAME,entity_type = ResourceType.LIVEFRAME,plugin_setting = PluginSetting.Inputs)\n",
    "\n",
    "# register slice dimension\n",
    "O9DataLake.register(\"Product.[Product]\", data_source = DataSource.LS, entity_type = ResourceType.IBPL, plugin_setting = PluginSetting.SliceDimension)\n",
    "\n",
    "# register outputs\n",
    "O9DataLake.register(\"output1\",data_source = DataSource.LS,entity_type = ResourceType.IBPL, plugin_setting = PluginSetting.Outputs)\n",
    "# O9DataLake.register(\"output2\",data_source = DataSource.LS,entity_type = ResourceType.IBPL, plugin_setting = PluginSetting.Outputs)\n",
    "\n",
    "# register script params\n",
    "script_params = O9DataLake.register({\"var1\":\"20\",\"var2\":\"Test1\",\"var3\":\"newparam\"}, data_source = DataSource.LS, plugin_setting = PluginSetting.ScriptParam)\n"
   ]
  },
  {
   "cell_type": "code",
   "execution_count": null,
   "id": "695d7c0b-fe3d-4d90-877f-b7863081382e",
   "metadata": {},
   "outputs": [],
   "source": [
    "O9DataLake.inputs"
   ]
  },
  {
   "cell_type": "code",
   "execution_count": 8,
   "id": "f8ac7df3-a536-47c4-834a-906292e02d91",
   "metadata": {},
   "outputs": [
    {
     "ename": "KeyError",
     "evalue": "'predict_df'",
     "output_type": "error",
     "traceback": [
      "\u001b[0;31m---------------------------------------------------------------------------\u001b[0m",
      "\u001b[0;31mKeyError\u001b[0m                                  Traceback (most recent call last)",
      "Cell \u001b[0;32mIn[8], line 7\u001b[0m\n\u001b[1;32m      1\u001b[0m \u001b[38;5;28;01mimport\u001b[39;00m \u001b[38;5;21;01mlogging\u001b[39;00m\n\u001b[1;32m      5\u001b[0m logger \u001b[38;5;241m=\u001b[39m logging\u001b[38;5;241m.\u001b[39mgetLogger(\u001b[38;5;124m'\u001b[39m\u001b[38;5;124mo9_logger\u001b[39m\u001b[38;5;124m'\u001b[39m)\n\u001b[0;32m----> 7\u001b[0m predict_df \u001b[38;5;241m=\u001b[39m \u001b[43mO9DataLake\u001b[49m\u001b[38;5;241;43m.\u001b[39;49m\u001b[43mget\u001b[49m\u001b[43m(\u001b[49m\u001b[38;5;124;43m'\u001b[39;49m\u001b[38;5;124;43mpredict_df\u001b[39;49m\u001b[38;5;124;43m'\u001b[39;49m\u001b[43m)\u001b[49m\n\u001b[1;32m      9\u001b[0m logger\u001b[38;5;241m.\u001b[39minfo(predict_df)\n\u001b[1;32m     11\u001b[0m out_df \u001b[38;5;241m=\u001b[39m predict_df\u001b[38;5;241m.\u001b[39mcopy(deep\u001b[38;5;241m=\u001b[39m\u001b[38;5;28;01mTrue\u001b[39;00m)\n",
      "File \u001b[0;32m/opt/conda/envs/genieaz_autodsml2/lib/python3.10/site-packages/o9_common_utils/O9DataLake.py:330\u001b[0m, in \u001b[0;36mO9DataLake.get\u001b[0;34m(key, query, copy)\u001b[0m\n\u001b[1;32m    328\u001b[0m \u001b[38;5;28;01mimport\u001b[39;00m \u001b[38;5;21;01mpandas\u001b[39;00m \u001b[38;5;28;01mas\u001b[39;00m \u001b[38;5;21;01mpd\u001b[39;00m\n\u001b[1;32m    329\u001b[0m \u001b[38;5;28;01mif\u001b[39;00m O9DataLake\u001b[38;5;241m.\u001b[39mjhub_mode: \u001b[38;5;66;03m# To eliminate the calling of get function multiple times\u001b[39;00m\n\u001b[0;32m--> 330\u001b[0m     \u001b[38;5;28;01mif\u001b[39;00m \u001b[43mO9DataLake\u001b[49m\u001b[38;5;241;43m.\u001b[39;49m\u001b[43minputs\u001b[49m\u001b[43m[\u001b[49m\u001b[43mkey\u001b[49m\u001b[43m]\u001b[49m[\u001b[38;5;124m'\u001b[39m\u001b[38;5;124mstd_count_limit\u001b[39m\u001b[38;5;124m'\u001b[39m] \u001b[38;5;241m!=\u001b[39m os\u001b[38;5;241m.\u001b[39mgetenv(\u001b[38;5;124m\"\u001b[39m\u001b[38;5;124mCOUNTLIMIT\u001b[39m\u001b[38;5;124m\"\u001b[39m):\n\u001b[1;32m    331\u001b[0m         \u001b[38;5;28;01mif\u001b[39;00m O9DataLake\u001b[38;5;241m.\u001b[39mhas_input_key(key) \u001b[38;5;129;01mand\u001b[39;00m O9DataLake\u001b[38;5;241m.\u001b[39minputs[key] \u001b[38;5;129;01mis\u001b[39;00m \u001b[38;5;129;01mnot\u001b[39;00m \u001b[38;5;28;01mNone\u001b[39;00m:\n\u001b[1;32m    332\u001b[0m             key_obj \u001b[38;5;241m=\u001b[39m O9DataLake\u001b[38;5;241m.\u001b[39minputs[key]\n",
      "\u001b[0;31mKeyError\u001b[0m: 'predict_df'"
     ]
    }
   ],
   "source": [
    "import logging\n",
    "\n",
    "\n",
    "\n",
    "logger = logging.getLogger('o9_logger')\n",
    "\n",
    "predict_df = O9DataLake.get('predict_df')\n",
    "\n",
    "logger.info(predict_df)\n",
    "\n",
    "out_df = predict_df.copy(deep=True)\n",
    "out_df[\"Col4\"] = out_df[\"Col4\"] + 2\n",
    "\n",
    "#O9DataLake.put(\"out_df\", out_df)\n",
    "\n",
    "logger.info(out_df)\n"
   ]
  },
  {
   "cell_type": "code",
   "execution_count": null,
   "id": "53791ed1-5d86-41f9-9e58-b9983abb6cb8",
   "metadata": {},
   "outputs": [],
   "source": []
  }
 ],
 "metadata": {
  "kernelspec": {
   "display_name": "[autodsml2] Tenant Conda Environment",
   "language": "python",
   "name": "genieaz_autodsml2"
  },
  "language_info": {
   "codemirror_mode": {
    "name": "ipython",
    "version": 3
   },
   "file_extension": ".py",
   "mimetype": "text/x-python",
   "name": "python",
   "nbconvert_exporter": "python",
   "pygments_lexer": "ipython3",
   "version": "3.10.5"
  }
 },
 "nbformat": 4,
 "nbformat_minor": 5
}
