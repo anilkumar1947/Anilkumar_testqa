{
  "cells": [
    {
      "cell_type": "code",
      "execution_count": null,
      "id": "3379b0a0-8b35-4553-8b8e-ec624e49f7fe",
      "metadata": {},
      "outputs": [],
      "source": []
    }
  ],
  "metadata": {
    "id": "9ef23252-9440-40b5-9881-323a88fcc161",
    "kernelspec": {
      "display_name": "",
      "name": ""
    },
    "language_info": {
      "name": ""
    }
  },
  "nbformat": 4,
  "nbformat_minor": 5
}