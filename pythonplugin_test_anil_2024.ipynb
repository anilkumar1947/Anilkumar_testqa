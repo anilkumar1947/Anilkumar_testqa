{
  "cells": [
    {
      "cell_type": "code",
      "execution_count": null,
      "id": "86eb8852-881a-48a5-888f-a0e1d5662700",
      "metadata": {},
      "outputs": [],
      "source": [
        "# This cell is NOT editable. Overwrite variables on your own discretion.\n",
        "# Any changes other than the script code will NOT BE SAVED!\n",
        "# All cells are assumed to be script code cells, unless explictly tagged as 'o9_ignore'\n",
        "\n"
      ]
    },
    {
      "cell_type": "code",
      "execution_count": 67,
      "id": "80a7e717-80cc-4367-881c-e82e25b2ec44",
      "metadata": {},
      "outputs": [
        {
          "name": "stdout",
          "output_type": "stream",
          "text": [
            "{'ModelValidationErrors': [\"Query Execution Failed with the following Errors:\\n9: line 1:48 at [@9,48:49='.*',<343>,1:48]: no viable alternative at input 'DOWNLOADDATAFILE( select (Version.[Version Name].*'\\r\\n6: Index was out of range. Must be non-negative and less than the size of the collection. (Parameter 'index')\\r\\n\"], 'FieldValidationErrors': {}}\n",
            "{'ModelValidationErrors': [\"Query Execution Failed with the following Errors:\\n9: line 1:48 at [@9,48:49='.*',<343>,1:48]: no viable alternative at input 'DOWNLOADDATAFILE( select (Version.[Version Name].*'\\r\\n6: Index was out of range. Must be non-negative and less than the size of the collection. (Parameter 'index')\\r\\n\"], 'FieldValidationErrors': {}}\n"
          ]
        }
      ],
      "source": [
        "# Slice Dimension Attributes defined in the plugin. Please check all queries and replace <KEY HERE> with a valid name.\n",
        "# For example: If slice is defined by Version.[Version Name] and Time.[Month]\n",
        "# input_df = ibpl Select ([Version].[Version Name].[<KEY HERE>] * [Time].[Month].[<KEY HERE>] * [Item].[Item Number]) on row, ({Measure.[M1], Measure.[M2]}) on column limit 5000;\n",
        "#                             update <KEY HERE> to valid names\n",
        "# input_df = ibpl Select ([Version].[Version Name].[CurrentWorkingView] * [Time].[Month].[January] * [Item].[Item Number]) on row, ({Measure.[M1], Measure.[M2]}) on column limit 5000;\n",
        "\n",
        "_sales_df = \"select (Version.[Version Name].[<KEY HERE>]*Product.[Product].[196426]*Time.FiscalWeek*SalesAccount.[Account]*Location.[Location]*{Measure.[DPSellOutUnitsActuals],Measure.[Mean Pricing Save PCT],Measure.[Placement Count],Measure.[Promotion Count],Measure.[DPSellOutPrice]});\"\n",
        "_DPBaseInputs = \"select (Version.[Version Name].[<KEY HERE>]*Product.[Product].[196426]*Time.FiscalWeek*SalesAccount.[Account]*Location.[Location]*{Measure.[DPSellOutUnitsActuals],Measure.[Mean Pricing Save PCT],Measure.[Placement Count],Measure.[Promotion Count],Measure.[DPSellOutPrice]});\"\n",
        "\n",
        "\n",
        "# Initialize the O9DataLake with the input parameters and dataframes\n",
        "# Data can be accessed with O9DataLake.get(<Input Name>)\n",
        "# Overwritten values will not be reflected in the O9DataLake after initialization\n",
        "\n",
        "from o9_common_utils.O9DataLake import O9DataLake, ResourceType, DataSource,PluginSetting\n",
        "sales_df = O9DataLake.register(\"sales_df\",data_source = DataSource.LS, entity_type = ResourceType.IBPL, query = _sales_df,plugin_setting = PluginSetting.Inputs)\n",
        "DPBaseInputs = O9DataLake.register(\"DPBaseInputs\",data_source = DataSource.LS, entity_type = ResourceType.IBPL, query = _DPBaseInputs,plugin_setting = PluginSetting.Inputs)\n",
        "O9DataLake.register(\"Version.[Version Name]\", data_source = DataSource.LS, entity_type = ResourceType.IBPL,plugin_setting = PluginSetting.SliceDimension)\n",
        "\n",
        "O9DataLake.register(\"out_df1\",data_source = DataSource.LS,entity_type = ResourceType.IBPL,plugin_setting = PluginSetting.Outputs)\n",
        "script_params = O9DataLake.register({}, data_source = DataSource.LS,plugin_setting = PluginSetting.ScriptParam)"
      ]
    },
    {
      "cell_type": "code",
      "execution_count": null,
      "id": "adc8a163-7cc0-4eb8-bbaa-0166d01cdf28",
      "metadata": {},
      "outputs": [],
      "source": [
        "\n",
        "\n",
        "#getting input from dataLake\n",
        "\n",
        "sales = O9DataLake.get('sales_df')\n",
        "dpbaseinputs = O9DataLake.get('DPBaseInputs')\n",
        "sales.head()\n",
        "#User Script\n",
        "import logging\n",
        "out_df1 = None\n",
        "logger = logging.getLogger('o9_logger')\n",
        "logger.info(f'Records count in sales dataframe : {sales.shape}')\n",
        "logger.info(f'Records count in DPBaseInputs dataframe : {dpbaseinputs.shape}')\n",
        "#pushing output to the DataLake\n",
        "O9DataLake.put('out_df1',sales)\n"
      ]
    },
    {
      "cell_type": "code",
      "execution_count": null,
      "id": "a6a53c09-60a0-4c0b-b417-d4cc6a5acfc8",
      "metadata": {},
      "outputs": [],
      "source": []
    }
  ],
  "metadata": {
    "kernelspec": {
      "display_name": "[pyplatformhivetest] Tenant Conda Environment",
      "language": "python",
      "name": "k8qa_pyplatformhivetest"
    },
    "language_info": {
      "codemirror_mode": {
        "name": "ipython",
        "version": 3
      },
      "file_extension": ".py",
      "mimetype": "text/x-python",
      "name": "python",
      "nbconvert_exporter": "python",
      "pygments_lexer": "ipython3",
      "version": "3.7.10"
    },
    "id": "4fa9fb75-0e47-492d-b693-4ed3e77552a3"
  },
  "nbformat": 4,
  "nbformat_minor": 5
}