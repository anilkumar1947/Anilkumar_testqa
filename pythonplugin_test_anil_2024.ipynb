{
 "cells": [
  {
   "cell_type": "code",
   "execution_count": null,
   "id": "04f03bd3-ccff-4c17-887c-19533e7059dc",
   "metadata": {},
   "outputs": [],
   "source": [
    "\n",
    "# Initialize the O9DataLake with the input parameters and dataframes\n",
    "# Data can be accessed with O9DataLake.get(<Input Name>)\n",
    "# Overwritten values will not be reflected in the O9DataLake after initialization\n",
    "\n",
    "# In the below statement is an IBPL query to fetch sta from the LS\n",
    "query1 = \"select (Version.[Version Name]);\"\n",
    "query2 = \"select (Version.[Version Name]);\"\n",
    "\n",
    "# Below statement allows you to import the package required to utilize O9DataLake\n",
    "from o9_common_utils.O9DataLake import O9DataLake, ResourceType, DataSource,PluginSetting\n",
    "\n",
    "# Below statement is an example to use the register() function in O9DataLake when you want to fetch data using IBPL from Live Server.\n",
    "input1 = O9DataLake.register(\"input1\",data_source = DataSource.LS, entity_type = ResourceType.IBPL, query = query1, plugin_setting = PluginSetting.Inputs)\n",
    "\n",
    "# Below statement is an example to use the register() function in O9DataLake when you want to fetch data using LiveFrames.\n",
    "input2 = O9DataLake.register(\"input2\",data_source = DataSource.LIVEFRAME, entity_type = ResourceType.LIVEFRAME, query = query2, plugin_setting = PluginSetting.Inputs)\n",
    "\n",
    "# Below statement is an example to use the register() function in O9DataLake and register Slice Dimensions for your plugin\n",
    "O9DataLake.register(\"Version.[Version Name]\", data_source = DataSource.LS, entity_type = ResourceType.IBPL, plugin_setting = PluginSetting.SliceDimension)\n",
    "\n",
    "# Below statement is an example to use the register() function in O9DataLake and register the Output Measure group for your plugin\n",
    "O9DataLake.register(\"output1\",data_source = DataSource.LS,entity_type = ResourceType.IBPL, plugin_setting = PluginSetting.Outputs)\n",
    "O9DataLake.register(\"output2\",data_source = DataSource.LS,entity_type = ResourceType.IBPL, plugin_setting = PluginSetting.Outputs)\n",
    "\n",
    "# Below statement is an example to use the register() function in O9DataLake and register the Script Params for your plugin\n",
    "script_params = O9DataLake.register({\"var1\":\"10\"}, data_source = DataSource.LS, plugin_setting = PluginSetting.ScriptParam)\n",
    "    "
   ]
  },
  {
   "cell_type": "code",
   "execution_count": null,
   "id": "a6a53c09-60a0-4c0b-b417-d4cc6a5acfc8",
   "metadata": {},
   "outputs": [],
   "source": [
    "# This cell is NOT editable. Overwrite variables on your own discretion.\n",
    "# Any changes other than the script code will NOT BE SAVED!\n",
    "# All cells are assumed to be script code cells, unless explictly tagged as 'o9_ignore'"
   ]
  }
 ],
 "metadata": {
  "kernelspec": {
   "display_name": "[pyplatformhivetest] Tenant Conda Environment",
   "language": "python",
   "name": "k8qa_pyplatformhivetest"
  },
  "language_info": {
   "codemirror_mode": {
    "name": "ipython",
    "version": 3
   },
   "file_extension": ".py",
   "mimetype": "text/x-python",
   "name": "python",
   "nbconvert_exporter": "python",
   "pygments_lexer": "ipython3",
   "version": "3.7.10"
  }
 },
 "nbformat": 4,
 "nbformat_minor": 5
}
